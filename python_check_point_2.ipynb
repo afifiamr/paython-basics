{
  "nbformat": 4,
  "nbformat_minor": 0,
  "metadata": {
    "colab": {
      "name": "python check point 2.ipynb",
      "provenance": []
    },
    "kernelspec": {
      "name": "python3",
      "display_name": "Python 3"
    },
    "language_info": {
      "name": "python"
    }
  },
  "cells": [
    {
      "cell_type": "code",
      "execution_count": 3,
      "metadata": {
        "colab": {
          "base_uri": "https://localhost:8080/"
        },
        "id": "f4b-Rh6OS22g",
        "outputId": "43f0bc14-c31e-4b11-9349-193965ef7f76"
      },
      "outputs": [
        {
          "output_type": "stream",
          "name": "stdout",
          "text": [
            "please input your first nameamr\n",
            "please input your last nameafifi\n",
            "afifi amr\n"
          ]
        }
      ],
      "source": [
        "#paython basics \n",
        "# q1\n",
        "firstname=input(\"please input your first name\" )\n",
        "lastname=input(\"please input your last name\" )\n",
        "print(lastname,firstname)\n"
      ]
    },
    {
      "cell_type": "code",
      "source": [
        "#q2\n",
        "n=5\n",
        "sum=(n+(n*11)+(n*111))\n",
        "print(sum)\n"
      ],
      "metadata": {
        "colab": {
          "base_uri": "https://localhost:8080/"
        },
        "id": "TQcxzPR2TKqn",
        "outputId": "4be07655-f656-4b0d-b3e0-e909f305c680"
      },
      "execution_count": 4,
      "outputs": [
        {
          "output_type": "stream",
          "name": "stdout",
          "text": [
            "615\n"
          ]
        }
      ]
    },
    {
      "cell_type": "code",
      "source": [
        "#q6\n",
        "x=str(input())\n",
        "word= x\n",
        "n=len(x)\n",
        "print(word[0],word[2],word[n-2])\n"
      ],
      "metadata": {
        "colab": {
          "base_uri": "https://localhost:8080/"
        },
        "id": "GqaFkcnKTNpY",
        "outputId": "fb920ecd-1cf2-417b-a3d2-57f350aa88d0"
      },
      "execution_count": 93,
      "outputs": [
        {
          "output_type": "stream",
          "name": "stdout",
          "text": [
            "hello team\n",
            "h l a\n"
          ]
        }
      ]
    },
    {
      "cell_type": "code",
      "source": [
        "#q7\n",
        "price=int(input())\n",
        "if price>=500:\n",
        "  print(price/2)\n",
        "elif price >= 200:\n",
        " print (price*.7)\n",
        "elif price < 200:\n",
        "   print(price*.9)\n",
        "\n"
      ],
      "metadata": {
        "colab": {
          "base_uri": "https://localhost:8080/"
        },
        "id": "T46rfOhdjD7S",
        "outputId": "827db6c1-0bc6-404d-f367-48adeabd3c05"
      },
      "execution_count": 182,
      "outputs": [
        {
          "output_type": "stream",
          "name": "stdout",
          "text": [
            "499\n",
            "349.29999999999995\n"
          ]
        }
      ]
    },
    {
      "cell_type": "code",
      "source": [
        "#q3\n",
        "x=int(input())\n",
        "if (x%2) == 0:\n",
        "  print(\"even\")\n",
        "else:\n",
        "  print(\"odd\")"
      ],
      "metadata": {
        "colab": {
          "base_uri": "https://localhost:8080/"
        },
        "id": "sp8ul1z9vsvK",
        "outputId": "5a9a3b5d-add9-4b65-c626-fad80f530ff7"
      },
      "execution_count": 202,
      "outputs": [
        {
          "output_type": "stream",
          "name": "stdout",
          "text": [
            "60\n",
            "even\n"
          ]
        }
      ]
    },
    {
      "cell_type": "code",
      "source": [
        "#q4\n",
        "y=int(input())\n",
        "x=range(2000,3200)\n",
        "for y in x:\n",
        "  sum==y%7\n",
        "  if sum==0:\n",
        "    print(sum)\n",
        "else:\n",
        "  print(\"error\")\n",
        "\n",
        "\n"
      ],
      "metadata": {
        "colab": {
          "base_uri": "https://localhost:8080/"
        },
        "id": "WXli8PKp0Iji",
        "outputId": "85698235-83a2-4a47-c67c-225b528b23e5"
      },
      "execution_count": 234,
      "outputs": [
        {
          "output_type": "stream",
          "name": "stdout",
          "text": [
            "70\n",
            "error\n"
          ]
        }
      ]
    },
    {
      "cell_type": "markdown",
      "source": [
        ""
      ],
      "metadata": {
        "id": "xI4Fiy2K0gGo"
      }
    }
  ]
}